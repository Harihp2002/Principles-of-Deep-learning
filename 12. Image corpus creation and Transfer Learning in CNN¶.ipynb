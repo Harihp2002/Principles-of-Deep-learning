{
 "cells": [
  {
   "cell_type": "markdown",
   "id": "a08f7f54",
   "metadata": {},
   "source": [
    "# HARI PRASATH S\n",
    "\n",
    "# Lab 12. Image corpus creation and Transfer Learning in CNN"
   ]
  },
  {
   "cell_type": "markdown",
   "id": "8855a4f5",
   "metadata": {},
   "source": [
    "##### 1. Import the necessary libraries"
   ]
  },
  {
   "cell_type": "code",
   "execution_count": 1,
   "id": "8c399e45",
   "metadata": {},
   "outputs": [],
   "source": [
    "import datetime\n",
    "import keras\n",
    "import pandas as pd\n",
    "from keras.datasets import mnist\n",
    "from keras.models import Sequential\n",
    "from keras.layers import Dense, Dropout, Activation, Flatten\n",
    "from keras.layers import Conv2D, MaxPooling2D"
   ]
  },
  {
   "cell_type": "markdown",
   "id": "0832c559",
   "metadata": {},
   "source": [
    "##### 2. Initialize some parameters"
   ]
  },
  {
   "cell_type": "code",
   "execution_count": 2,
   "id": "79221498",
   "metadata": {},
   "outputs": [],
   "source": [
    "now = datetime.datetime.now  #get current time\n",
    "\n",
    "batch_size = 128\n",
    "num_classes = 5\n",
    "epochs = 5\n",
    "\n",
    "img_rows, img_cols = 28, 28\n",
    "filters = 32\n",
    "pool_size = 2\n",
    "kernel_size = 3"
   ]
  },
  {
   "cell_type": "markdown",
   "id": "d45ae190",
   "metadata": {},
   "source": [
    "##### 3. Partition MINST dataset"
   ]
  },
  {
   "cell_type": "code",
   "execution_count": 3,
   "id": "75e7a7fd",
   "metadata": {},
   "outputs": [],
   "source": [
    "#data, shuffled and split between train and test sets\n",
    "\n",
    "(x_train, y_train), (x_test, y_test) = mnist.load_data()"
   ]
  },
  {
   "cell_type": "code",
   "execution_count": 4,
   "id": "f43503a0",
   "metadata": {},
   "outputs": [],
   "source": [
    "#create 2 datasets: one with digits below 5 and one with 5 and above\n",
    "\n",
    "x_train_lt5 = x_train[y_train < 5]\n",
    "y_train_lt5 = y_train[y_train < 5]\n",
    "x_test_lt5 = x_test[y_test < 5]\n",
    "y_test_lt5 = y_test[y_test < 5]\n",
    "\n",
    "x_train_gte5 = x_train[y_train >= 5]\n",
    "y_train_gte5 = y_train[y_train >= 5] - 5\n",
    "x_test_gte5 = x_test[y_test >= 5]\n",
    "y_test_gte5 = y_test[y_test >= 5] - 5"
   ]
  },
  {
   "cell_type": "code",
   "execution_count": 5,
   "id": "d9fa5399",
   "metadata": {},
   "outputs": [
    {
     "data": {
      "text/plain": [
       "(30596, 28, 28)"
      ]
     },
     "execution_count": 5,
     "metadata": {},
     "output_type": "execute_result"
    }
   ],
   "source": [
    "x_train_lt5.shape"
   ]
  },
  {
   "cell_type": "code",
   "execution_count": 6,
   "id": "8edb49f8",
   "metadata": {},
   "outputs": [
    {
     "data": {
      "text/plain": [
       "(29404, 28, 28)"
      ]
     },
     "execution_count": 6,
     "metadata": {},
     "output_type": "execute_result"
    }
   ],
   "source": [
    "x_train_gte5.shape"
   ]
  },
  {
   "cell_type": "markdown",
   "id": "664b44ef",
   "metadata": {},
   "source": [
    "##### 4. Define the \"feature\" layers"
   ]
  },
  {
   "cell_type": "code",
   "execution_count": 7,
   "id": "8d5728de",
   "metadata": {},
   "outputs": [],
   "source": [
    "feature_layers =[ \n",
    "    Conv2D(filters, kernel_size = (3,3), activation = 'relu',padding='valid',input_shape = (img_rows,img_cols, 1)),\n",
    "    Conv2D(filters, kernel_size = (3,3), activation = 'relu'),\n",
    "    MaxPooling2D(pool_size=2),\n",
    "    Dropout(0.25),\n",
    "    Flatten() \n",
    "]"
   ]
  },
  {
   "cell_type": "markdown",
   "id": "a93ccc76",
   "metadata": {},
   "source": [
    "##### 5. Define the \"classification\" layers"
   ]
  },
  {
   "cell_type": "code",
   "execution_count": 8,
   "id": "28c83199",
   "metadata": {},
   "outputs": [],
   "source": [
    "classification_layers = [\n",
    "    Dense(128, activation = 'relu'),\n",
    "    Dropout(0.5),\n",
    "    Dense(num_classes, activation = 'softmax')\n",
    "]"
   ]
  },
  {
   "cell_type": "markdown",
   "id": "5dbacb17",
   "metadata": {},
   "source": [
    "##### 6. Define a Sequential model"
   ]
  },
  {
   "cell_type": "code",
   "execution_count": 9,
   "id": "fe50da79",
   "metadata": {},
   "outputs": [
    {
     "name": "stdout",
     "output_type": "stream",
     "text": [
      "Model: \"sequential\"\n",
      "_________________________________________________________________\n",
      " Layer (type)                Output Shape              Param #   \n",
      "=================================================================\n",
      " conv2d (Conv2D)             (None, 26, 26, 32)        320       \n",
      "                                                                 \n",
      " conv2d_1 (Conv2D)           (None, 24, 24, 32)        9248      \n",
      "                                                                 \n",
      " max_pooling2d (MaxPooling2D  (None, 12, 12, 32)       0         \n",
      " )                                                               \n",
      "                                                                 \n",
      " dropout (Dropout)           (None, 12, 12, 32)        0         \n",
      "                                                                 \n",
      " flatten (Flatten)           (None, 4608)              0         \n",
      "                                                                 \n",
      " dense (Dense)               (None, 128)               589952    \n",
      "                                                                 \n",
      " dropout_1 (Dropout)         (None, 128)               0         \n",
      "                                                                 \n",
      " dense_1 (Dense)             (None, 5)                 645       \n",
      "                                                                 \n",
      "=================================================================\n",
      "Total params: 600,165\n",
      "Trainable params: 600,165\n",
      "Non-trainable params: 0\n",
      "_________________________________________________________________\n"
     ]
    }
   ],
   "source": [
    "model = Sequential(feature_layers+classification_layers)\n",
    "model.summary()"
   ]
  },
  {
   "cell_type": "markdown",
   "id": "20405cd5",
   "metadata": {},
   "source": [
    "##### 7. Create a function train_model()"
   ]
  },
  {
   "cell_type": "code",
   "execution_count": 10,
   "id": "72c96ff1",
   "metadata": {},
   "outputs": [],
   "source": [
    "def train_model(model,train,test,num_classes):\n",
    "    train[0] = train[0].reshape(train[0].shape[0],img_rows,img_cols,1)\n",
    "    test[0] = test[0].reshape(test[0].shape[0],img_rows,img_cols,1)\n",
    "\n",
    "    train[0] = train[0].astype('float32')\n",
    "    test[0] = test[0].astype('float32')\n",
    "\n",
    "    train[0] /= 255\n",
    "    test[0] /= 255\n",
    "\n",
    "    print(train[0].shape)\n",
    "    print(test[0].shape)\n",
    " \n",
    "    s = pd.Series(train[1])\n",
    "    train[1] = pd.get_dummies(s)\n",
    "    train[1] = train[1].values\n",
    "\n",
    "    s = pd.Series(test[1])\n",
    "    test[1] = pd.get_dummies(s)\n",
    "    test[1] = test[1].values\n",
    "\n",
    "    model.compile(optimizer='adadelta',loss='categorical_crossentropy',metrics=['accuracy'])\n",
    "\n",
    "    train_start_time=now()\n",
    "\n",
    "    model.fit(train[0],train[1],epochs=epochs,verbose=2)\n",
    "  \n",
    "    print('\\n')\n",
    "    print('\\n')\n",
    "\n",
    "    print('Training time: %s' % (now() - train_start_time))\n",
    "\n",
    "    score=model.evaluate(test[0],test[1],verbose=0)\n",
    "\n",
    "    print('test loss ',score[0])\n",
    "    print('test accuracy ',score[1])"
   ]
  },
  {
   "cell_type": "markdown",
   "id": "c5974934",
   "metadata": {},
   "source": [
    "##### 8. Training on digits 5 to 9"
   ]
  },
  {
   "cell_type": "code",
   "execution_count": 11,
   "id": "f7509906",
   "metadata": {},
   "outputs": [
    {
     "name": "stdout",
     "output_type": "stream",
     "text": [
      "(29404, 28, 28, 1)\n",
      "(4861, 28, 28, 1)\n",
      "Epoch 1/5\n",
      "919/919 - 26s - loss: 1.5849 - accuracy: 0.2688 - 26s/epoch - 28ms/step\n",
      "Epoch 2/5\n",
      "919/919 - 24s - loss: 1.5191 - accuracy: 0.4162 - 24s/epoch - 26ms/step\n",
      "Epoch 3/5\n",
      "919/919 - 25s - loss: 1.4363 - accuracy: 0.5346 - 25s/epoch - 27ms/step\n",
      "Epoch 4/5\n",
      "919/919 - 24s - loss: 1.3302 - accuracy: 0.6198 - 24s/epoch - 26ms/step\n",
      "Epoch 5/5\n",
      "919/919 - 23s - loss: 1.2066 - accuracy: 0.6776 - 23s/epoch - 25ms/step\n",
      "\n",
      "\n",
      "\n",
      "\n",
      "Training time: 0:02:01.499758\n",
      "test loss  1.081207513809204\n",
      "test accuracy  0.8294589519500732\n"
     ]
    }
   ],
   "source": [
    "train_model(model, [x_train_gte5, y_train_gte5], [x_test_gte5, y_test_gte5], num_classes)\n"
   ]
  },
  {
   "cell_type": "markdown",
   "id": "3121f979",
   "metadata": {},
   "source": [
    "##### 9. Freeze Feature Layers"
   ]
  },
  {
   "cell_type": "code",
   "execution_count": 12,
   "id": "91145d80",
   "metadata": {},
   "outputs": [],
   "source": [
    "#Freeze only the feature layers\n",
    "\n",
    "for l in feature_layers:\n",
    "    l.trainable = False"
   ]
  },
  {
   "cell_type": "markdown",
   "id": "c9177b5a",
   "metadata": {},
   "source": [
    "##### 10. Print Summary"
   ]
  },
  {
   "cell_type": "code",
   "execution_count": 13,
   "id": "6a62a2c7",
   "metadata": {},
   "outputs": [
    {
     "name": "stdout",
     "output_type": "stream",
     "text": [
      "Model: \"sequential\"\n",
      "_________________________________________________________________\n",
      " Layer (type)                Output Shape              Param #   \n",
      "=================================================================\n",
      " conv2d (Conv2D)             (None, 26, 26, 32)        320       \n",
      "                                                                 \n",
      " conv2d_1 (Conv2D)           (None, 24, 24, 32)        9248      \n",
      "                                                                 \n",
      " max_pooling2d (MaxPooling2D  (None, 12, 12, 32)       0         \n",
      " )                                                               \n",
      "                                                                 \n",
      " dropout (Dropout)           (None, 12, 12, 32)        0         \n",
      "                                                                 \n",
      " flatten (Flatten)           (None, 4608)              0         \n",
      "                                                                 \n",
      " dense (Dense)               (None, 128)               589952    \n",
      "                                                                 \n",
      " dropout_1 (Dropout)         (None, 128)               0         \n",
      "                                                                 \n",
      " dense_1 (Dense)             (None, 5)                 645       \n",
      "                                                                 \n",
      "=================================================================\n",
      "Total params: 600,165\n",
      "Trainable params: 590,597\n",
      "Non-trainable params: 9,568\n",
      "_________________________________________________________________\n"
     ]
    }
   ],
   "source": [
    "model.summary()"
   ]
  },
  {
   "cell_type": "markdown",
   "id": "7a06860d",
   "metadata": {},
   "source": [
    "##### 11. Training for digits 0 to 4 based on digits 5 to 9"
   ]
  },
  {
   "cell_type": "code",
   "execution_count": 14,
   "id": "9b3937aa",
   "metadata": {},
   "outputs": [
    {
     "name": "stdout",
     "output_type": "stream",
     "text": [
      "(30596, 28, 28, 1)\n",
      "(5139, 28, 28, 1)\n",
      "Epoch 1/5\n",
      "957/957 - 14s - loss: 1.4970 - accuracy: 0.3767 - 14s/epoch - 14ms/step\n",
      "Epoch 2/5\n",
      "957/957 - 12s - loss: 1.3208 - accuracy: 0.5379 - 12s/epoch - 13ms/step\n",
      "Epoch 3/5\n",
      "957/957 - 12s - loss: 1.1759 - accuracy: 0.6686 - 12s/epoch - 12ms/step\n",
      "Epoch 4/5\n",
      "957/957 - 12s - loss: 1.0477 - accuracy: 0.7524 - 12s/epoch - 12ms/step\n",
      "Epoch 5/5\n",
      "957/957 - 12s - loss: 0.9338 - accuracy: 0.8006 - 12s/epoch - 13ms/step\n",
      "\n",
      "\n",
      "\n",
      "\n",
      "Training time: 0:01:01.698501\n",
      "test loss  0.817685604095459\n",
      "test accuracy  0.8925861120223999\n"
     ]
    }
   ],
   "source": [
    "train_model(model, [x_train_lt5, y_train_lt5], [x_test_lt5, y_test_lt5], num_classes)\n"
   ]
  },
  {
   "cell_type": "markdown",
   "id": "786f94c6",
   "metadata": {},
   "source": [
    "##### 12. Reversing the training process"
   ]
  },
  {
   "cell_type": "code",
   "execution_count": 15,
   "id": "0c13ed10",
   "metadata": {},
   "outputs": [
    {
     "name": "stdout",
     "output_type": "stream",
     "text": [
      "Model: \"sequential_1\"\n",
      "_________________________________________________________________\n",
      " Layer (type)                Output Shape              Param #   \n",
      "=================================================================\n",
      " conv2d (Conv2D)             (None, 26, 26, 32)        320       \n",
      "                                                                 \n",
      " conv2d_1 (Conv2D)           (None, 24, 24, 32)        9248      \n",
      "                                                                 \n",
      " max_pooling2d (MaxPooling2D  (None, 12, 12, 32)       0         \n",
      " )                                                               \n",
      "                                                                 \n",
      " dropout (Dropout)           (None, 12, 12, 32)        0         \n",
      "                                                                 \n",
      " flatten (Flatten)           (None, 4608)              0         \n",
      "                                                                 \n",
      " dense (Dense)               (None, 128)               589952    \n",
      "                                                                 \n",
      " dropout_1 (Dropout)         (None, 128)               0         \n",
      "                                                                 \n",
      " dense_1 (Dense)             (None, 5)                 645       \n",
      "                                                                 \n",
      "=================================================================\n",
      "Total params: 600,165\n",
      "Trainable params: 590,597\n",
      "Non-trainable params: 9,568\n",
      "_________________________________________________________________\n"
     ]
    }
   ],
   "source": [
    "modelR = Sequential(feature_layers+classification_layers)\n",
    "modelR.summary()"
   ]
  },
  {
   "cell_type": "code",
   "execution_count": 16,
   "id": "5c53e039",
   "metadata": {},
   "outputs": [
    {
     "name": "stdout",
     "output_type": "stream",
     "text": [
      "(30596, 28, 28, 1)\n",
      "(5139, 28, 28, 1)\n",
      "Epoch 1/5\n",
      "957/957 - 14s - loss: 0.8365 - accuracy: 0.8328 - 14s/epoch - 15ms/step\n",
      "Epoch 2/5\n",
      "957/957 - 14s - loss: 0.7597 - accuracy: 0.8529 - 14s/epoch - 15ms/step\n",
      "Epoch 3/5\n",
      "957/957 - 12s - loss: 0.6927 - accuracy: 0.8670 - 12s/epoch - 13ms/step\n",
      "Epoch 4/5\n",
      "957/957 - 12s - loss: 0.6350 - accuracy: 0.8762 - 12s/epoch - 12ms/step\n",
      "Epoch 5/5\n",
      "957/957 - 12s - loss: 0.5905 - accuracy: 0.8830 - 12s/epoch - 13ms/step\n",
      "\n",
      "\n",
      "\n",
      "\n",
      "Training time: 0:01:04.031238\n",
      "test loss  0.4846039414405823\n",
      "test accuracy  0.9350067973136902\n"
     ]
    }
   ],
   "source": [
    "train_model(modelR, [x_train_lt5, y_train_lt5], [x_test_lt5, y_test_lt5], num_classes)"
   ]
  },
  {
   "cell_type": "code",
   "execution_count": 17,
   "id": "c0046437",
   "metadata": {},
   "outputs": [],
   "source": [
    "#Freeze only the feature layers\n",
    "\n",
    "for l in feature_layers:\n",
    "    l.trainable = False"
   ]
  },
  {
   "cell_type": "code",
   "execution_count": 18,
   "id": "ea04ec94",
   "metadata": {},
   "outputs": [
    {
     "name": "stdout",
     "output_type": "stream",
     "text": [
      "Model: \"sequential_1\"\n",
      "_________________________________________________________________\n",
      " Layer (type)                Output Shape              Param #   \n",
      "=================================================================\n",
      " conv2d (Conv2D)             (None, 26, 26, 32)        320       \n",
      "                                                                 \n",
      " conv2d_1 (Conv2D)           (None, 24, 24, 32)        9248      \n",
      "                                                                 \n",
      " max_pooling2d (MaxPooling2D  (None, 12, 12, 32)       0         \n",
      " )                                                               \n",
      "                                                                 \n",
      " dropout (Dropout)           (None, 12, 12, 32)        0         \n",
      "                                                                 \n",
      " flatten (Flatten)           (None, 4608)              0         \n",
      "                                                                 \n",
      " dense (Dense)               (None, 128)               589952    \n",
      "                                                                 \n",
      " dropout_1 (Dropout)         (None, 128)               0         \n",
      "                                                                 \n",
      " dense_1 (Dense)             (None, 5)                 645       \n",
      "                                                                 \n",
      "=================================================================\n",
      "Total params: 600,165\n",
      "Trainable params: 590,597\n",
      "Non-trainable params: 9,568\n",
      "_________________________________________________________________\n"
     ]
    }
   ],
   "source": [
    "modelR.summary()"
   ]
  }
 ],
 "metadata": {
  "kernelspec": {
   "display_name": "Python 3",
   "language": "python",
   "name": "python3"
  },
  "language_info": {
   "codemirror_mode": {
    "name": "ipython",
    "version": 3
   },
   "file_extension": ".py",
   "mimetype": "text/x-python",
   "name": "python",
   "nbconvert_exporter": "python",
   "pygments_lexer": "ipython3",
   "version": "3.8.8"
  }
 },
 "nbformat": 4,
 "nbformat_minor": 5
}
