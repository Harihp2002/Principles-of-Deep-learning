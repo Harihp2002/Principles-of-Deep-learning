{
 "cells": [
  {
   "cell_type": "markdown",
   "id": "c009635a-a12a-4167-afe5-d80d6f84d5f0",
   "metadata": {},
   "source": [
    "#### HARI ORASATH S"
   ]
  },
  {
   "cell_type": "markdown",
   "id": "1090d12e",
   "metadata": {
    "id": "1090d12e"
   },
   "source": [
    "# Lab 15. Text dataset creation and design of Simple RNN for Sentiment Analysis"
   ]
  },
  {
   "cell_type": "markdown",
   "id": "5eb5d414",
   "metadata": {
    "id": "5eb5d414"
   },
   "source": [
    "### 1. Import libraries"
   ]
  },
  {
   "cell_type": "code",
   "execution_count": 1,
   "id": "48a74ddc",
   "metadata": {
    "id": "48a74ddc"
   },
   "outputs": [],
   "source": [
    "import csv\n",
    "import tensorflow as tf\n",
    "import numpy as np\n",
    "import pandas as pd\n",
    "import matplotlib.pyplot as plt\n",
    "from tensorflow.keras.preprocessing.text import Tokenizer\n",
    "from tensorflow.keras.preprocessing.sequence import pad_sequences"
   ]
  },
  {
   "cell_type": "code",
   "execution_count": 2,
   "id": "9ddc9792",
   "metadata": {
    "id": "9ddc9792"
   },
   "outputs": [],
   "source": [
    "from keras.models import Sequential\n",
    "from keras.layers import Dense, Embedding,SimpleRNN"
   ]
  },
  {
   "cell_type": "code",
   "execution_count": 3,
   "id": "4f441cb7",
   "metadata": {
    "colab": {
     "base_uri": "https://localhost:8080/"
    },
    "id": "4f441cb7",
    "outputId": "c28b87ed-5402-41f5-816d-29ef1363e0da"
   },
   "outputs": [
    {
     "name": "stderr",
     "output_type": "stream",
     "text": [
      "[nltk_data] Downloading package stopwords to\n",
      "[nltk_data]     C:\\Users\\HP\\AppData\\Roaming\\nltk_data...\n",
      "[nltk_data]   Package stopwords is already up-to-date!\n"
     ]
    },
    {
     "data": {
      "text/plain": [
       "True"
      ]
     },
     "execution_count": 3,
     "metadata": {},
     "output_type": "execute_result"
    }
   ],
   "source": [
    "import nltk\n",
    "nltk.download('stopwords')"
   ]
  },
  {
   "cell_type": "code",
   "execution_count": 4,
   "id": "04847240",
   "metadata": {
    "id": "04847240"
   },
   "outputs": [],
   "source": [
    "from nltk.corpus import stopwords\n",
    "STOPWORDS = set(stopwords.words('english'))"
   ]
  },
  {
   "cell_type": "markdown",
   "id": "fb7501fa",
   "metadata": {
    "id": "fb7501fa"
   },
   "source": [
    "### 2. Creation of data"
   ]
  },
  {
   "cell_type": "code",
   "execution_count": 5,
   "id": "4d298657",
   "metadata": {
    "id": "4d298657"
   },
   "outputs": [],
   "source": [
    "df = pd.read_csv(\"textdataset.csv\",encoding=\"ISO-8859-1\")"
   ]
  },
  {
   "cell_type": "code",
   "execution_count": 6,
   "id": "700a7f3d",
   "metadata": {
    "colab": {
     "base_uri": "https://localhost:8080/",
     "height": 206
    },
    "id": "700a7f3d",
    "outputId": "0ef1f868-f065-428f-9ae5-b108b6da8faa"
   },
   "outputs": [
    {
     "data": {
      "text/html": [
       "<div>\n",
       "<style scoped>\n",
       "    .dataframe tbody tr th:only-of-type {\n",
       "        vertical-align: middle;\n",
       "    }\n",
       "\n",
       "    .dataframe tbody tr th {\n",
       "        vertical-align: top;\n",
       "    }\n",
       "\n",
       "    .dataframe thead th {\n",
       "        text-align: right;\n",
       "    }\n",
       "</style>\n",
       "<table border=\"1\" class=\"dataframe\">\n",
       "  <thead>\n",
       "    <tr style=\"text-align: right;\">\n",
       "      <th></th>\n",
       "      <th>Text</th>\n",
       "      <th>Class</th>\n",
       "    </tr>\n",
       "  </thead>\n",
       "  <tbody>\n",
       "    <tr>\n",
       "      <th>0</th>\n",
       "      <td>You will succeed if you don't quit.</td>\n",
       "      <td>1</td>\n",
       "    </tr>\n",
       "    <tr>\n",
       "      <th>1</th>\n",
       "      <td>All our dreams can come true.</td>\n",
       "      <td>1</td>\n",
       "    </tr>\n",
       "    <tr>\n",
       "      <th>2</th>\n",
       "      <td>Champions keep playing to get it right.</td>\n",
       "      <td>1</td>\n",
       "    </tr>\n",
       "    <tr>\n",
       "      <th>3</th>\n",
       "      <td>Believe in yourself, you're braver than you th...</td>\n",
       "      <td>1</td>\n",
       "    </tr>\n",
       "    <tr>\n",
       "      <th>4</th>\n",
       "      <td>Success comes to those who seek it out.</td>\n",
       "      <td>1</td>\n",
       "    </tr>\n",
       "  </tbody>\n",
       "</table>\n",
       "</div>"
      ],
      "text/plain": [
       "                                                Text  Class\n",
       "0                You will succeed if you don't quit.      1\n",
       "1                      All our dreams can come true.      1\n",
       "2            Champions keep playing to get it right.      1\n",
       "3  Believe in yourself, you're braver than you th...      1\n",
       "4           Success comes to those who seek it out.       1"
      ]
     },
     "execution_count": 6,
     "metadata": {},
     "output_type": "execute_result"
    }
   ],
   "source": [
    "df.head()"
   ]
  },
  {
   "cell_type": "markdown",
   "id": "7cb1ec9d",
   "metadata": {
    "id": "7cb1ec9d"
   },
   "source": [
    "### 3. Opening your CSV file"
   ]
  },
  {
   "cell_type": "code",
   "execution_count": 7,
   "id": "9631dacc",
   "metadata": {
    "id": "9631dacc"
   },
   "outputs": [],
   "source": [
    "import csv"
   ]
  },
  {
   "cell_type": "code",
   "execution_count": 8,
   "id": "f1f720db",
   "metadata": {
    "colab": {
     "base_uri": "https://localhost:8080/"
    },
    "id": "f1f720db",
    "outputId": "bf84ff40-7ff1-4fed-8cd7-a13f1beb52a1"
   },
   "outputs": [
    {
     "data": {
      "text/plain": [
       "_io.TextIOWrapper"
      ]
     },
     "execution_count": 8,
     "metadata": {},
     "output_type": "execute_result"
    }
   ],
   "source": [
    "file = open('textdataset.csv')\n",
    "type(file)"
   ]
  },
  {
   "cell_type": "code",
   "execution_count": 9,
   "id": "ef97fd5a",
   "metadata": {
    "id": "ef97fd5a"
   },
   "outputs": [],
   "source": [
    "import csv\n",
    "encodings_to_try = ['utf-8', 'ISO-8859-1', 'windows-1252', 'latin-1', 'utf-16']\n",
    "for encoding in encodings_to_try:\n",
    "    try:\n",
    "        with open('textdataset.csv', 'r', encoding=encoding) as file:\n",
    "            csvreader = csv.reader(file)\n",
    "            rows = []\n",
    "            for row in csvreader:\n",
    "                rows.append(row)\n",
    "        break  \n",
    "    except UnicodeDecodeError:\n",
    "        continue"
   ]
  },
  {
   "cell_type": "code",
   "execution_count": 10,
   "id": "49965527",
   "metadata": {
    "id": "49965527"
   },
   "outputs": [],
   "source": [
    "file.close()"
   ]
  },
  {
   "cell_type": "code",
   "execution_count": 11,
   "id": "4166610e",
   "metadata": {
    "colab": {
     "base_uri": "https://localhost:8080/"
    },
    "id": "4166610e",
    "outputId": "8c5cd16d-2665-4def-d5f5-a04fcee26eb4"
   },
   "outputs": [
    {
     "name": "stdout",
     "output_type": "stream",
     "text": [
      "<class 'pandas.core.frame.DataFrame'>\n",
      "RangeIndex: 40 entries, 0 to 39\n",
      "Data columns (total 2 columns):\n",
      " #   Column  Non-Null Count  Dtype \n",
      "---  ------  --------------  ----- \n",
      " 0   Text    40 non-null     object\n",
      " 1   Class   40 non-null     int64 \n",
      "dtypes: int64(1), object(1)\n",
      "memory usage: 768.0+ bytes\n"
     ]
    }
   ],
   "source": [
    "df.info()"
   ]
  },
  {
   "cell_type": "markdown",
   "id": "f20e7ac3",
   "metadata": {
    "id": "f20e7ac3"
   },
   "source": [
    "### 4. Pre-processing the text"
   ]
  },
  {
   "cell_type": "code",
   "execution_count": 12,
   "id": "9927b0d4",
   "metadata": {
    "id": "9927b0d4"
   },
   "outputs": [],
   "source": [
    "X = df['Text']\n",
    "y = df['Class']"
   ]
  },
  {
   "cell_type": "markdown",
   "id": "cb26d36c",
   "metadata": {
    "id": "cb26d36c"
   },
   "source": [
    "### 5. Dataset Preparation"
   ]
  },
  {
   "cell_type": "code",
   "execution_count": 13,
   "id": "904f7b1c",
   "metadata": {
    "id": "904f7b1c"
   },
   "outputs": [],
   "source": [
    "from sklearn.model_selection import train_test_split\n",
    "X_train, X_val, y_train, y_val = train_test_split(X, y, test_size=0.25,stratify=y)"
   ]
  },
  {
   "cell_type": "code",
   "execution_count": 14,
   "id": "be3c2748",
   "metadata": {
    "colab": {
     "base_uri": "https://localhost:8080/"
    },
    "id": "be3c2748",
    "outputId": "720c66d1-eee8-4ad9-d344-e8d873889895"
   },
   "outputs": [
    {
     "name": "stdout",
     "output_type": "stream",
     "text": [
      "(30,)\n",
      "(10,)\n",
      "(30,)\n",
      "(10,)\n"
     ]
    }
   ],
   "source": [
    "print(X_train.shape)\n",
    "print(X_val.shape)\n",
    "print(y_train.shape)\n",
    "print(y_val.shape)"
   ]
  },
  {
   "cell_type": "code",
   "execution_count": 15,
   "id": "ad944a3a",
   "metadata": {
    "colab": {
     "base_uri": "https://localhost:8080/"
    },
    "id": "ad944a3a",
    "outputId": "f00c55fc-ffc0-4eb2-dfa3-c110ff01e1f4"
   },
   "outputs": [
    {
     "data": {
      "text/plain": [
       "{'<oov>': 1,\n",
       " 'is': 2,\n",
       " 'you': 3,\n",
       " 'a': 4,\n",
       " 'your': 5,\n",
       " 'to': 6,\n",
       " 'the': 7,\n",
       " 'yourself': 8,\n",
       " 'nothing': 9,\n",
       " 'do': 10}"
      ]
     },
     "execution_count": 15,
     "metadata": {},
     "output_type": "execute_result"
    }
   ],
   "source": [
    "# 4th step to be continue\n",
    "train_token = Tokenizer(num_words=100,oov_token='<oov>')\n",
    "train_token.fit_on_texts(X_train)\n",
    "word_index = train_token.word_index\n",
    "train_sequence = train_token.texts_to_sequences(X_train)\n",
    "dict(list(word_index.items())[0:10])"
   ]
  },
  {
   "cell_type": "code",
   "execution_count": 16,
   "id": "4f0dd856",
   "metadata": {
    "colab": {
     "base_uri": "https://localhost:8080/"
    },
    "id": "4f0dd856",
    "outputId": "f60a47c6-e566-4937-97a4-89150164c6b2"
   },
   "outputs": [
    {
     "data": {
      "text/plain": [
       "143"
      ]
     },
     "execution_count": 16,
     "metadata": {},
     "output_type": "execute_result"
    }
   ],
   "source": [
    "vocab = len(train_token.word_index) + 1\n",
    "vocab"
   ]
  },
  {
   "cell_type": "code",
   "execution_count": 17,
   "id": "49ac855f",
   "metadata": {
    "colab": {
     "base_uri": "https://localhost:8080/"
    },
    "id": "49ac855f",
    "outputId": "a2eec3ea-3276-4e33-dac0-79d7f7719530"
   },
   "outputs": [
    {
     "data": {
      "text/plain": [
       "[11, 2, 47, 21, 22]"
      ]
     },
     "execution_count": 17,
     "metadata": {},
     "output_type": "execute_result"
    }
   ],
   "source": [
    "train_sequence[3]"
   ]
  },
  {
   "cell_type": "code",
   "execution_count": 18,
   "id": "d7b34a9d",
   "metadata": {
    "colab": {
     "base_uri": "https://localhost:8080/"
    },
    "id": "d7b34a9d",
    "outputId": "b45a8615-02ed-4180-8808-9a1cabdea25f"
   },
   "outputs": [
    {
     "data": {
      "text/plain": [
       "array([12,  2, 53, 54, 55, 56, 57,  2, 58, 59,  0,  0,  0,  0,  0,  0,  0,\n",
       "        0,  0,  0,  0,  0,  0,  0,  0,  0,  0,  0,  0,  0,  0,  0,  0,  0,\n",
       "        0,  0,  0,  0,  0,  0,  0,  0,  0,  0,  0,  0,  0,  0,  0,  0,  0,\n",
       "        0,  0,  0,  0,  0,  0,  0,  0,  0,  0,  0,  0,  0,  0,  0,  0,  0,\n",
       "        0,  0,  0,  0,  0,  0,  0,  0,  0,  0,  0,  0,  0,  0,  0,  0,  0,\n",
       "        0,  0,  0,  0,  0,  0,  0,  0,  0,  0,  0,  0,  0,  0,  0])"
      ]
     },
     "execution_count": 18,
     "metadata": {},
     "output_type": "execute_result"
    }
   ],
   "source": [
    "train_padded = pad_sequences(train_sequence,maxlen=100,padding='post')\n",
    "train_padded[5]"
   ]
  },
  {
   "cell_type": "code",
   "execution_count": 19,
   "id": "4d148686",
   "metadata": {
    "colab": {
     "base_uri": "https://localhost:8080/"
    },
    "id": "4d148686",
    "outputId": "bdb37f59-811f-4639-a1a4-6c255d1d24b5"
   },
   "outputs": [
    {
     "data": {
      "text/plain": [
       "(30, 100)"
      ]
     },
     "execution_count": 19,
     "metadata": {},
     "output_type": "execute_result"
    }
   ],
   "source": [
    "train_padded.shape"
   ]
  },
  {
   "cell_type": "code",
   "execution_count": 20,
   "id": "c5ca4cae",
   "metadata": {
    "id": "c5ca4cae"
   },
   "outputs": [],
   "source": [
    "val_token = Tokenizer(num_words=500,oov_token='<oov>')\n",
    "val_token.fit_on_texts(X_val)\n",
    "val_index = val_token.word_index\n",
    "val_sequence = val_token.texts_to_sequences(X_val)"
   ]
  },
  {
   "cell_type": "code",
   "execution_count": 21,
   "id": "06a9a23d",
   "metadata": {
    "id": "06a9a23d"
   },
   "outputs": [],
   "source": [
    "if len(val_sequence) > 4:\n",
    "    # Access the element at index 4\n",
    "    value = val_sequence[4]\n",
    "else:\n",
    "    # Handle the case where the list doesn't have enough elements\n",
    "    print(\"The list doesn't have enough elements.\")\n"
   ]
  },
  {
   "cell_type": "code",
   "execution_count": 22,
   "id": "f5861247",
   "metadata": {
    "id": "f5861247"
   },
   "outputs": [],
   "source": [
    "val_padded = pad_sequences(val_sequence,maxlen=100,padding='post')"
   ]
  },
  {
   "cell_type": "markdown",
   "id": "f9c4a42b",
   "metadata": {
    "id": "f9c4a42b"
   },
   "source": [
    "### 6. Model Creation"
   ]
  },
  {
   "cell_type": "code",
   "execution_count": 24,
   "id": "a762ae48",
   "metadata": {
    "id": "a762ae48"
   },
   "outputs": [],
   "source": [
    "model = Sequential()\n",
    "# Embedding layer\n",
    "model.add(Embedding(300,70,input_length=100))\n",
    "model.add(SimpleRNN(64,activation='relu'))\n",
    "model.add(Dense('1',activation='sigmoid'))"
   ]
  },
  {
   "cell_type": "code",
   "execution_count": 25,
   "id": "ab2adc79",
   "metadata": {
    "id": "ab2adc79"
   },
   "outputs": [],
   "source": [
    "model.compile(optimizer='adam',loss='binary_crossentropy',metrics=['accuracy'])"
   ]
  },
  {
   "cell_type": "code",
   "execution_count": 26,
   "id": "842fb857",
   "metadata": {
    "colab": {
     "base_uri": "https://localhost:8080/"
    },
    "id": "842fb857",
    "outputId": "7aa2c5f4-0e94-423a-eb4b-979732314740"
   },
   "outputs": [
    {
     "name": "stdout",
     "output_type": "stream",
     "text": [
      "Model: \"sequential_1\"\n",
      "_________________________________________________________________\n",
      " Layer (type)                Output Shape              Param #   \n",
      "=================================================================\n",
      " embedding_1 (Embedding)     (None, 100, 70)           21000     \n",
      "                                                                 \n",
      " simple_rnn_1 (SimpleRNN)    (None, 64)                8640      \n",
      "                                                                 \n",
      " dense_1 (Dense)             (None, 1)                 65        \n",
      "                                                                 \n",
      "=================================================================\n",
      "Total params: 29,705\n",
      "Trainable params: 29,705\n",
      "Non-trainable params: 0\n",
      "_________________________________________________________________\n"
     ]
    }
   ],
   "source": [
    "model.summary()"
   ]
  },
  {
   "cell_type": "code",
   "execution_count": 28,
   "id": "7e4df7d5",
   "metadata": {
    "colab": {
     "base_uri": "https://localhost:8080/"
    },
    "id": "7e4df7d5",
    "outputId": "c6beaca0-7fe7-461a-c444-69061051000d"
   },
   "outputs": [
    {
     "name": "stdout",
     "output_type": "stream",
     "text": [
      "Epoch 1/10\n",
      "3/3 - 0s - loss: 0.6938 - accuracy: 0.4333 - 146ms/epoch - 49ms/step\n",
      "Epoch 2/10\n",
      "3/3 - 0s - loss: 0.6933 - accuracy: 0.5000 - 134ms/epoch - 45ms/step\n",
      "Epoch 3/10\n",
      "3/3 - 0s - loss: 0.6941 - accuracy: 0.3667 - 115ms/epoch - 38ms/step\n",
      "Epoch 4/10\n",
      "3/3 - 0s - loss: 0.6932 - accuracy: 0.5000 - 130ms/epoch - 43ms/step\n",
      "Epoch 5/10\n",
      "3/3 - 0s - loss: 0.6932 - accuracy: 0.5000 - 122ms/epoch - 41ms/step\n",
      "Epoch 6/10\n",
      "3/3 - 0s - loss: 0.6937 - accuracy: 0.4333 - 141ms/epoch - 47ms/step\n",
      "Epoch 7/10\n",
      "3/3 - 0s - loss: 0.6933 - accuracy: 0.5000 - 148ms/epoch - 49ms/step\n",
      "Epoch 8/10\n",
      "3/3 - 0s - loss: 0.6933 - accuracy: 0.5000 - 123ms/epoch - 41ms/step\n",
      "Epoch 9/10\n",
      "3/3 - 0s - loss: 0.6932 - accuracy: 0.5000 - 137ms/epoch - 46ms/step\n",
      "Epoch 10/10\n",
      "3/3 - 0s - loss: 0.6933 - accuracy: 0.4333 - 134ms/epoch - 45ms/step\n"
     ]
    }
   ],
   "source": [
    "history=model.fit(train_padded,y_train,epochs=10,verbose=2,batch_size=10)"
   ]
  },
  {
   "cell_type": "code",
   "execution_count": 29,
   "id": "57a369ad",
   "metadata": {
    "colab": {
     "base_uri": "https://localhost:8080/"
    },
    "id": "57a369ad",
    "outputId": "8998a920-5530-4d51-fc3d-b1c66a64c7ef"
   },
   "outputs": [
    {
     "name": "stdout",
     "output_type": "stream",
     "text": [
      "1/1 [==============================] - 1s 1s/step - loss: 0.6931 - accuracy: 0.5000\n"
     ]
    },
    {
     "data": {
      "text/plain": [
       "[0.6931477785110474, 0.5]"
      ]
     },
     "execution_count": 29,
     "metadata": {},
     "output_type": "execute_result"
    }
   ],
   "source": [
    "model.evaluate(val_padded,y_val)"
   ]
  },
  {
   "cell_type": "code",
   "execution_count": 30,
   "id": "54d3012b",
   "metadata": {
    "colab": {
     "base_uri": "https://localhost:8080/",
     "height": 472
    },
    "id": "54d3012b",
    "outputId": "2dd37ad9-6fc0-4e36-f7f8-24229afe3924"
   },
   "outputs": [
    {
     "data": {
      "image/png": "[encoded data removed]",
      "text/plain": [
       "<Figure size 640x480 with 1 Axes>"
      ]
     },
     "metadata": {},
     "output_type": "display_data"
    }
   ],
   "source": [
    "plt.plot(history.history['accuracy'])\n",
    "plt.title('Model Accuracy')\n",
    "plt.ylabel('accuracy')\n",
    "plt.xlabel('epoch')\n",
    "plt.show()"
   ]
  },
  {
   "cell_type": "code",
   "execution_count": 31,
   "id": "9a03b28f",
   "metadata": {
    "colab": {
     "base_uri": "https://localhost:8080/",
     "height": 472
    },
    "id": "9a03b28f",
    "outputId": "56f92368-3e3e-4c8a-d8e2-e096472055b5"
   },
   "outputs": [
    {
     "data": {
      "image/png": "[encoded data removed]",
      "text/plain": [
       "<Figure size 640x480 with 1 Axes>"
      ]
     },
     "metadata": {},
     "output_type": "display_data"
    }
   ],
   "source": [
    "plt.plot(history.history['loss'])\n",
    "plt.title('Model Loss')\n",
    "plt.ylabel('loss')\n",
    "plt.xlabel('epoch')\n",
    "plt.show()"
   ]
  },
  {
   "cell_type": "code",
   "execution_count": 32,
   "id": "6f52c453",
   "metadata": {
    "id": "6f52c453"
   },
   "outputs": [],
   "source": [
    "text = df[\"Text\"]"
   ]
  },
  {
   "cell_type": "code",
   "execution_count": 33,
   "id": "834f868f",
   "metadata": {
    "id": "834f868f"
   },
   "outputs": [],
   "source": [
    "#sent = [w.lower() for w in text.split() if not w in STOPWORDS]\n",
    "trail_token = Tokenizer()\n",
    "trail_token.fit_on_texts(text)\n",
    "#word_index = trail_token.word_index\n",
    "trail_seq = trail_token.texts_to_sequences(text)\n",
    "#dict(list(word_index.items())[0:10])\n",
    "trail_pad = pad_sequences(trail_seq,maxlen=100,padding='post')"
   ]
  },
  {
   "cell_type": "code",
   "execution_count": 34,
   "id": "1eb25ab1",
   "metadata": {
    "colab": {
     "base_uri": "https://localhost:8080/"
    },
    "id": "1eb25ab1",
    "outputId": "5eb09b0d-c1eb-46ab-c4a1-f1115ac4abeb"
   },
   "outputs": [
    {
     "data": {
      "text/plain": [
       "array([[  2,  47,  21, ...,   0,   0,   0],\n",
       "       [ 23,  49,  24, ...,   0,   0,   0],\n",
       "       [ 52,  26,  53, ...,   0,   0,   0],\n",
       "       ...,\n",
       "       [ 15, 177,   3, ...,   0,   0,   0],\n",
       "       [ 34,  45,   4, ...,   0,   0,   0],\n",
       "       [ 46,  13, 182, ...,   0,   0,   0]])"
      ]
     },
     "execution_count": 34,
     "metadata": {},
     "output_type": "execute_result"
    }
   ],
   "source": [
    "trail_pad"
   ]
  },
  {
   "cell_type": "markdown",
   "id": "e32d2f86",
   "metadata": {
    "id": "e32d2f86"
   },
   "source": [
    "### Step 7:"
   ]
  },
  {
   "cell_type": "code",
   "execution_count": 64,
   "id": "c128289a",
   "metadata": {
    "colab": {
     "base_uri": "https://localhost:8080/"
    },
    "id": "c128289a",
    "outputId": "31c60b5d-3bd5-40ae-f162-e77436ffd9d8",
    "scrolled": true
   },
   "outputs": [
    {
     "name": "stdout",
     "output_type": "stream",
     "text": [
      "2/2 [==============================] - 0s 25ms/step\n",
      "[[0.4994854]\n",
      " [0.4994854]\n",
      " [0.4994854]\n",
      " [0.4994854]\n",
      " [0.4994854]\n",
      " [0.4994854]\n",
      " [0.4994854]\n",
      " [0.4994854]\n",
      " [0.4994854]\n",
      " [0.4994854]\n",
      " [0.4994854]\n",
      " [0.4994854]\n",
      " [0.4994854]\n",
      " [0.4994854]\n",
      " [0.4994854]\n",
      " [0.4994854]\n",
      " [0.4994854]\n",
      " [0.4994854]\n",
      " [0.4994854]\n",
      " [0.4994854]\n",
      " [0.4994854]\n",
      " [0.4994854]\n",
      " [0.4994854]\n",
      " [0.4994854]\n",
      " [0.4994854]\n",
      " [0.4994854]\n",
      " [0.4994854]\n",
      " [0.4994854]\n",
      " [0.4994854]\n",
      " [0.4994854]\n",
      " [0.4994854]\n",
      " [0.4994854]\n",
      " [0.4994854]\n",
      " [0.4994854]\n",
      " [0.4994854]\n",
      " [0.4994854]\n",
      " [0.4994854]\n",
      " [0.4994854]\n",
      " [0.4994854]\n",
      " [0.4994854]] negative\n"
     ]
    },
    {
     "name": "stderr",
     "output_type": "stream",
     "text": [
      "C:\\Users\\HP\\AppData\\Local\\Temp\\ipykernel_7116\\1535703611.py:3: DeprecationWarning: In future, it will be an error for 'np.bool_' scalars to be interpreted as an index\n",
      "  print(res,label[np.argmax(trail_pad)>50])\n"
     ]
    }
   ],
   "source": [
    "res = model.predict(trail_pad)\n",
    "label = ['positive','negative']\n",
    "print(res,label[np.argmax(trail_pad)>50])"
   ]
  },
  {
   "cell_type": "markdown",
   "id": "fb7b9c02",
   "metadata": {
    "id": "fb7b9c02"
   },
   "source": [
    "### Step 8:\n",
    "\n",
    "### Model 2"
   ]
  },
  {
   "cell_type": "code",
   "execution_count": 65,
   "id": "57fd222a",
   "metadata": {
    "id": "57fd222a"
   },
   "outputs": [],
   "source": [
    "model1 = Sequential()\n",
    "# Embedding layer\n",
    "model1.add(Embedding(5000,64,input_length=100))\n",
    "model1.add(SimpleRNN(32,activation='tanh'))\n",
    "model1.add(Embedding(5000,32,input_length=100))\n",
    "model1.add(SimpleRNN(32,activation='tanh' ))\n",
    "model1.add(Dense('1',activation='sigmoid'))"
   ]
  },
  {
   "cell_type": "code",
   "execution_count": 66,
   "id": "634eb224",
   "metadata": {
    "colab": {
     "base_uri": "https://localhost:8080/"
    },
    "id": "634eb224",
    "outputId": "50bd2a2d-884e-4fbe-ac54-579bb3a4f1d4"
   },
   "outputs": [
    {
     "name": "stdout",
     "output_type": "stream",
     "text": [
      "Model: \"sequential_5\"\n",
      "_________________________________________________________________\n",
      " Layer (type)                Output Shape              Param #   \n",
      "=================================================================\n",
      " embedding_10 (Embedding)    (None, 100, 64)           320000    \n",
      "                                                                 \n",
      " simple_rnn_10 (SimpleRNN)   (None, 32)                3104      \n",
      "                                                                 \n",
      " embedding_11 (Embedding)    (None, 32, 32)            160000    \n",
      "                                                                 \n",
      " simple_rnn_11 (SimpleRNN)   (None, 32)                2080      \n",
      "                                                                 \n",
      " dense_5 (Dense)             (None, 1)                 33        \n",
      "                                                                 \n",
      "=================================================================\n",
      "Total params: 485,217\n",
      "Trainable params: 485,217\n",
      "Non-trainable params: 0\n",
      "_________________________________________________________________\n"
     ]
    }
   ],
   "source": [
    "model1.summary()"
   ]
  },
  {
   "cell_type": "code",
   "execution_count": 67,
   "id": "b5996840",
   "metadata": {
    "id": "b5996840"
   },
   "outputs": [],
   "source": [
    "model1.compile(optimizer='adam',loss='binary_crossentropy',metrics=['accuracy'])"
   ]
  },
  {
   "cell_type": "code",
   "execution_count": 68,
   "id": "4d3ab2ff",
   "metadata": {
    "colab": {
     "base_uri": "https://localhost:8080/"
    },
    "id": "4d3ab2ff",
    "outputId": "063b189f-ccde-4686-98c3-678b5ee9c703"
   },
   "outputs": [
    {
     "name": "stdout",
     "output_type": "stream",
     "text": [
      "Epoch 1/10\n",
      "WARNING:tensorflow:Gradients do not exist for variables ['embedding_10/embeddings:0', 'simple_rnn_10/simple_rnn_cell_10/kernel:0', 'simple_rnn_10/simple_rnn_cell_10/recurrent_kernel:0', 'simple_rnn_10/simple_rnn_cell_10/bias:0'] when minimizing the loss. If you're using `model.compile()`, did you forget to provide a `loss` argument?\n",
      "WARNING:tensorflow:Gradients do not exist for variables ['embedding_10/embeddings:0', 'simple_rnn_10/simple_rnn_cell_10/kernel:0', 'simple_rnn_10/simple_rnn_cell_10/recurrent_kernel:0', 'simple_rnn_10/simple_rnn_cell_10/bias:0'] when minimizing the loss. If you're using `model.compile()`, did you forget to provide a `loss` argument?\n",
      "2/2 - 5s - loss: 0.6983 - accuracy: 0.5000 - 5s/epoch - 2s/step\n",
      "Epoch 2/10\n",
      "2/2 - 0s - loss: 0.6950 - accuracy: 0.5000 - 87ms/epoch - 43ms/step\n",
      "Epoch 3/10\n",
      "2/2 - 0s - loss: 0.6932 - accuracy: 0.5000 - 74ms/epoch - 37ms/step\n",
      "Epoch 4/10\n",
      "2/2 - 0s - loss: 0.6936 - accuracy: 0.5000 - 68ms/epoch - 34ms/step\n",
      "Epoch 5/10\n",
      "2/2 - 0s - loss: 0.6940 - accuracy: 0.5000 - 112ms/epoch - 56ms/step\n",
      "Epoch 6/10\n",
      "2/2 - 0s - loss: 0.6933 - accuracy: 0.5000 - 111ms/epoch - 55ms/step\n",
      "Epoch 7/10\n",
      "2/2 - 0s - loss: 0.6931 - accuracy: 0.5000 - 71ms/epoch - 36ms/step\n",
      "Epoch 8/10\n",
      "2/2 - 0s - loss: 0.6933 - accuracy: 0.4667 - 80ms/epoch - 40ms/step\n",
      "Epoch 9/10\n",
      "2/2 - 0s - loss: 0.6945 - accuracy: 0.2667 - 70ms/epoch - 35ms/step\n",
      "Epoch 10/10\n",
      "2/2 - 0s - loss: 0.6931 - accuracy: 0.5000 - 63ms/epoch - 31ms/step\n"
     ]
    }
   ],
   "source": [
    "history1=model1.fit(train_padded,y_train,epochs=10,verbose=2,batch_size=15)"
   ]
  },
  {
   "cell_type": "code",
   "execution_count": 69,
   "id": "ca712e03",
   "metadata": {
    "colab": {
     "base_uri": "https://localhost:8080/"
    },
    "id": "ca712e03",
    "outputId": "a7ed1741-ad10-4d2c-a1e4-9a0b18d40b74"
   },
   "outputs": [
    {
     "name": "stdout",
     "output_type": "stream",
     "text": [
      "WARNING:tensorflow:5 out of the last 5 calls to <function Model.make_test_function.<locals>.test_function at 0x0000027AB7581A20> triggered tf.function retracing. Tracing is expensive and the excessive number of tracings could be due to (1) creating @tf.function repeatedly in a loop, (2) passing tensors with different shapes, (3) passing Python objects instead of tensors. For (1), please define your @tf.function outside of the loop. For (2), @tf.function has reduce_retracing=True option that can avoid unnecessary retracing. For (3), please refer to https://www.tensorflow.org/guide/function#controlling_retracing and https://www.tensorflow.org/api_docs/python/tf/function for  more details.\n",
      "1/1 [==============================] - 1s 1s/step - loss: 0.6931 - accuracy: 0.5000\n"
     ]
    },
    {
     "data": {
      "text/plain": [
       "[0.6931478381156921, 0.5]"
      ]
     },
     "execution_count": 69,
     "metadata": {},
     "output_type": "execute_result"
    }
   ],
   "source": [
    "model1.evaluate(val_padded,y_val)"
   ]
  },
  {
   "cell_type": "code",
   "execution_count": 70,
   "id": "cb4d1198",
   "metadata": {
    "colab": {
     "base_uri": "https://localhost:8080/",
     "height": 472
    },
    "id": "cb4d1198",
    "outputId": "4dd5c3ba-b203-42b4-e3fe-244d0f882c41"
   },
   "outputs": [
    {
     "data": {
      "image/png": "[encoded data removed]",
      "text/plain": [
       "<Figure size 640x480 with 1 Axes>"
      ]
     },
     "metadata": {},
     "output_type": "display_data"
    }
   ],
   "source": [
    "plt.plot(history1.history['accuracy'])\n",
    "plt.title('Model Accuracy')\n",
    "plt.ylabel('accuracy')\n",
    "plt.xlabel('epoch')\n",
    "plt.show()"
   ]
  },
  {
   "cell_type": "code",
   "execution_count": 71,
   "id": "af3e2284",
   "metadata": {
    "colab": {
     "base_uri": "https://localhost:8080/",
     "height": 472
    },
    "id": "af3e2284",
    "outputId": "7a92a4a8-5fc2-4e55-a740-139a7623e1ed"
   },
   "outputs": [
    {
     "data": {
      "image/png": "[encoded data removed]",
      "text/plain": [
       "<Figure size 640x480 with 1 Axes>"
      ]
     },
     "metadata": {},
     "output_type": "display_data"
    }
   ],
   "source": [
    "plt.plot(history1.history['loss'])\n",
    "plt.title('Model Loss')\n",
    "plt.ylabel('loss')\n",
    "plt.xlabel('epoch')\n",
    "plt.show()"
   ]
  },
  {
   "cell_type": "code",
   "execution_count": 72,
   "id": "f6d690c9",
   "metadata": {
    "colab": {
     "base_uri": "https://localhost:8080/"
    },
    "id": "f6d690c9",
    "outputId": "b6509ddf-bd02-4965-a64d-2055c821da39"
   },
   "outputs": [
    {
     "name": "stdout",
     "output_type": "stream",
     "text": [
      "2/2 [==============================] - 1s 50ms/step\n",
      "[[0.49943614]\n",
      " [0.49943614]\n",
      " [0.49943614]\n",
      " [0.49943614]\n",
      " [0.49943614]\n",
      " [0.49943614]\n",
      " [0.49943614]\n",
      " [0.49943614]\n",
      " [0.49943614]\n",
      " [0.49943614]\n",
      " [0.49943614]\n",
      " [0.49943614]\n",
      " [0.49943614]\n",
      " [0.49943614]\n",
      " [0.49943614]\n",
      " [0.49943614]\n",
      " [0.49943614]\n",
      " [0.49943614]\n",
      " [0.49943614]\n",
      " [0.49943614]\n",
      " [0.49943614]\n",
      " [0.49943614]\n",
      " [0.49943614]\n",
      " [0.49943614]\n",
      " [0.49943614]\n",
      " [0.49943614]\n",
      " [0.49943614]\n",
      " [0.49943614]\n",
      " [0.49943614]\n",
      " [0.49943614]\n",
      " [0.49943614]\n",
      " [0.49943614]\n",
      " [0.49943614]\n",
      " [0.49943614]\n",
      " [0.49943614]\n",
      " [0.49943614]\n",
      " [0.49943614]\n",
      " [0.49943614]\n",
      " [0.49943614]\n",
      " [0.49943614]] negative\n"
     ]
    },
    {
     "name": "stderr",
     "output_type": "stream",
     "text": [
      "C:\\Users\\HP\\AppData\\Local\\Temp\\ipykernel_7116\\2701450631.py:3: DeprecationWarning: In future, it will be an error for 'np.bool_' scalars to be interpreted as an index\n",
      "  print(res,label[np.argmax(trail_pad)>50])\n"
     ]
    }
   ],
   "source": [
    "res = model1.predict(trail_pad)\n",
    "label = ['positive','negative']\n",
    "print(res,label[np.argmax(trail_pad)>50])"
   ]
  },
  {
   "cell_type": "markdown",
   "id": "bad4fa69",
   "metadata": {
    "id": "bad4fa69"
   },
   "source": [
    "### Model 3"
   ]
  },
  {
   "cell_type": "code",
   "execution_count": 73,
   "id": "5b23fc63",
   "metadata": {
    "id": "5b23fc63"
   },
   "outputs": [],
   "source": [
    "model2 = Sequential()\n",
    "# Embedding layer\n",
    "model2.add(Embedding(4000,128,input_length=100))\n",
    "model2.add(SimpleRNN(64,activation='tanh'))\n",
    "model2.add(Embedding(4000,128,input_length=100))\n",
    "model2.add(SimpleRNN(64,activation='relu' ))\n",
    "model2.add(Embedding(4000,128,input_length=100))\n",
    "model2.add(SimpleRNN(64,activation='tanh' ))\n",
    "model2.add(Dense('1',activation='sigmoid'))"
   ]
  },
  {
   "cell_type": "code",
   "execution_count": 74,
   "id": "58b2e7b9",
   "metadata": {
    "colab": {
     "base_uri": "https://localhost:8080/"
    },
    "id": "58b2e7b9",
    "outputId": "de93df2e-fb34-4eb9-b0ab-1e3ebe5ef092"
   },
   "outputs": [
    {
     "name": "stdout",
     "output_type": "stream",
     "text": [
      "Model: \"sequential_6\"\n",
      "_________________________________________________________________\n",
      " Layer (type)                Output Shape              Param #   \n",
      "=================================================================\n",
      " embedding_12 (Embedding)    (None, 100, 128)          512000    \n",
      "                                                                 \n",
      " simple_rnn_12 (SimpleRNN)   (None, 64)                12352     \n",
      "                                                                 \n",
      " embedding_13 (Embedding)    (None, 64, 128)           512000    \n",
      "                                                                 \n",
      " simple_rnn_13 (SimpleRNN)   (None, 64)                12352     \n",
      "                                                                 \n",
      " embedding_14 (Embedding)    (None, 64, 128)           512000    \n",
      "                                                                 \n",
      " simple_rnn_14 (SimpleRNN)   (None, 64)                12352     \n",
      "                                                                 \n",
      " dense_6 (Dense)             (None, 1)                 65        \n",
      "                                                                 \n",
      "=================================================================\n",
      "Total params: 1,573,121\n",
      "Trainable params: 1,573,121\n",
      "Non-trainable params: 0\n",
      "_________________________________________________________________\n"
     ]
    }
   ],
   "source": [
    "model2.summary()"
   ]
  },
  {
   "cell_type": "code",
   "execution_count": 75,
   "id": "a104d745",
   "metadata": {
    "id": "a104d745"
   },
   "outputs": [],
   "source": [
    "model2.compile(optimizer='adam',loss='binary_crossentropy',metrics=['accuracy'])"
   ]
  },
  {
   "cell_type": "code",
   "execution_count": 76,
   "id": "712b645f",
   "metadata": {
    "colab": {
     "base_uri": "https://localhost:8080/"
    },
    "id": "712b645f",
    "outputId": "810a97b2-6649-4bd3-d830-434e21409e99"
   },
   "outputs": [
    {
     "name": "stdout",
     "output_type": "stream",
     "text": [
      "Epoch 1/10\n",
      "WARNING:tensorflow:Gradients do not exist for variables ['embedding_12/embeddings:0', 'simple_rnn_12/simple_rnn_cell_12/kernel:0', 'simple_rnn_12/simple_rnn_cell_12/recurrent_kernel:0', 'simple_rnn_12/simple_rnn_cell_12/bias:0', 'embedding_13/embeddings:0', 'simple_rnn_13/simple_rnn_cell_13/kernel:0', 'simple_rnn_13/simple_rnn_cell_13/recurrent_kernel:0', 'simple_rnn_13/simple_rnn_cell_13/bias:0'] when minimizing the loss. If you're using `model.compile()`, did you forget to provide a `loss` argument?\n",
      "WARNING:tensorflow:Gradients do not exist for variables ['embedding_12/embeddings:0', 'simple_rnn_12/simple_rnn_cell_12/kernel:0', 'simple_rnn_12/simple_rnn_cell_12/recurrent_kernel:0', 'simple_rnn_12/simple_rnn_cell_12/bias:0', 'embedding_13/embeddings:0', 'simple_rnn_13/simple_rnn_cell_13/kernel:0', 'simple_rnn_13/simple_rnn_cell_13/recurrent_kernel:0', 'simple_rnn_13/simple_rnn_cell_13/bias:0'] when minimizing the loss. If you're using `model.compile()`, did you forget to provide a `loss` argument?\n",
      "2/2 - 7s - loss: 0.7062 - accuracy: 0.4667 - 7s/epoch - 4s/step\n",
      "Epoch 2/10\n",
      "2/2 - 0s - loss: 0.7068 - accuracy: 0.3333 - 167ms/epoch - 83ms/step\n",
      "Epoch 3/10\n",
      "2/2 - 0s - loss: 0.6983 - accuracy: 0.5000 - 182ms/epoch - 91ms/step\n",
      "Epoch 4/10\n",
      "2/2 - 0s - loss: 0.6969 - accuracy: 0.5000 - 166ms/epoch - 83ms/step\n",
      "Epoch 5/10\n",
      "2/2 - 0s - loss: 0.6931 - accuracy: 0.5000 - 187ms/epoch - 94ms/step\n",
      "Epoch 6/10\n",
      "2/2 - 0s - loss: 0.6931 - accuracy: 0.5000 - 166ms/epoch - 83ms/step\n",
      "Epoch 7/10\n",
      "2/2 - 0s - loss: 0.6954 - accuracy: 0.3333 - 167ms/epoch - 84ms/step\n",
      "Epoch 8/10\n",
      "2/2 - 0s - loss: 0.6944 - accuracy: 0.4000 - 173ms/epoch - 87ms/step\n",
      "Epoch 9/10\n",
      "2/2 - 0s - loss: 0.6939 - accuracy: 0.5000 - 149ms/epoch - 75ms/step\n",
      "Epoch 10/10\n",
      "2/2 - 0s - loss: 0.6941 - accuracy: 0.5000 - 145ms/epoch - 72ms/step\n"
     ]
    }
   ],
   "source": [
    "history2=model2.fit(train_padded,y_train,epochs=10,verbose=2,batch_size=15)"
   ]
  },
  {
   "cell_type": "code",
   "execution_count": 77,
   "id": "e46f60f1",
   "metadata": {
    "colab": {
     "base_uri": "https://localhost:8080/"
    },
    "id": "e46f60f1",
    "outputId": "0998d81b-0d17-4dc4-b27d-732c5522f520"
   },
   "outputs": [
    {
     "name": "stdout",
     "output_type": "stream",
     "text": [
      "WARNING:tensorflow:6 out of the last 6 calls to <function Model.make_test_function.<locals>.test_function at 0x0000027AB89A43A0> triggered tf.function retracing. Tracing is expensive and the excessive number of tracings could be due to (1) creating @tf.function repeatedly in a loop, (2) passing tensors with different shapes, (3) passing Python objects instead of tensors. For (1), please define your @tf.function outside of the loop. For (2), @tf.function has reduce_retracing=True option that can avoid unnecessary retracing. For (3), please refer to https://www.tensorflow.org/guide/function#controlling_retracing and https://www.tensorflow.org/api_docs/python/tf/function for  more details.\n",
      "1/1 [==============================] - 2s 2s/step - loss: 0.6933 - accuracy: 0.5000\n"
     ]
    },
    {
     "data": {
      "text/plain": [
       "[0.6932642459869385, 0.5]"
      ]
     },
     "execution_count": 77,
     "metadata": {},
     "output_type": "execute_result"
    }
   ],
   "source": [
    "model2.evaluate(val_padded,y_val)"
   ]
  },
  {
   "cell_type": "code",
   "execution_count": 78,
   "id": "881ddce7",
   "metadata": {
    "colab": {
     "base_uri": "https://localhost:8080/",
     "height": 472
    },
    "id": "881ddce7",
    "outputId": "906423eb-44e9-4025-8d4b-125fafe233d0"
   },
   "outputs": [
    {
     "data": {
      "image/png": "[encoded data removed]",
      "text/plain": [
       "<Figure size 640x480 with 1 Axes>"
      ]
     },
     "metadata": {},
     "output_type": "display_data"
    }
   ],
   "source": [
    "plt.plot(history2.history['accuracy'])\n",
    "plt.title('Model Accuracy')\n",
    "plt.ylabel('accuracy')\n",
    "plt.xlabel('epoch')\n",
    "plt.show()"
   ]
  },
  {
   "cell_type": "code",
   "execution_count": 79,
   "id": "2aeb0e29",
   "metadata": {
    "colab": {
     "base_uri": "https://localhost:8080/",
     "height": 472
    },
    "id": "2aeb0e29",
    "outputId": "96143895-9919-4966-ec0c-2ac6c463f778"
   },
   "outputs": [
    {
     "data": {
      "image/png": "[encoded data removed]",
      "text/plain": [
       "<Figure size 640x480 with 1 Axes>"
      ]
     },
     "metadata": {},
     "output_type": "display_data"
    }
   ],
   "source": [
    "plt.plot(history2.history['loss'])\n",
    "plt.title('Model Loss')\n",
    "plt.ylabel('loss')\n",
    "plt.xlabel('epoch')\n",
    "plt.show()"
   ]
  },
  {
   "cell_type": "code",
   "execution_count": 80,
   "id": "e0fb2f93",
   "metadata": {
    "colab": {
     "base_uri": "https://localhost:8080/"
    },
    "id": "e0fb2f93",
    "outputId": "82672b12-c71d-483b-aec6-f1a134277fc6"
   },
   "outputs": [
    {
     "name": "stdout",
     "output_type": "stream",
     "text": [
      "2/2 [==============================] - 2s 45ms/step\n",
      "[[0.49235067]\n",
      " [0.49235067]\n",
      " [0.49235067]\n",
      " [0.49235067]\n",
      " [0.49235067]\n",
      " [0.49235067]\n",
      " [0.49235067]\n",
      " [0.49235067]\n",
      " [0.49235067]\n",
      " [0.49235067]\n",
      " [0.49235067]\n",
      " [0.49235067]\n",
      " [0.49235067]\n",
      " [0.49235067]\n",
      " [0.49235067]\n",
      " [0.49235067]\n",
      " [0.49235067]\n",
      " [0.49235067]\n",
      " [0.49235067]\n",
      " [0.49235067]\n",
      " [0.49235067]\n",
      " [0.49235067]\n",
      " [0.49235067]\n",
      " [0.49235067]\n",
      " [0.49235067]\n",
      " [0.49235067]\n",
      " [0.49235067]\n",
      " [0.49235067]\n",
      " [0.49235067]\n",
      " [0.49235067]\n",
      " [0.49235067]\n",
      " [0.49235067]\n",
      " [0.49235067]\n",
      " [0.49235067]\n",
      " [0.49235067]\n",
      " [0.49235067]\n",
      " [0.49235067]\n",
      " [0.49235067]\n",
      " [0.49235067]\n",
      " [0.49235067]] negative\n"
     ]
    },
    {
     "name": "stderr",
     "output_type": "stream",
     "text": [
      "C:\\Users\\HP\\AppData\\Local\\Temp\\ipykernel_7116\\479605851.py:3: DeprecationWarning: In future, it will be an error for 'np.bool_' scalars to be interpreted as an index\n",
      "  print(res,label[np.argmax(trail_pad)>50])\n"
     ]
    }
   ],
   "source": [
    "res = model2.predict(trail_pad)\n",
    "label = ['positive','negative']\n",
    "print(res,label[np.argmax(trail_pad)>50])"
   ]
  },
  {
   "cell_type": "code",
   "execution_count": null,
   "id": "88ac5664-ba2a-4645-bb9d-54e325f6101e",
   "metadata": {},
   "outputs": [],
   "source": []
  }
 ],
 "metadata": {
  "accelerator": "GPU",
  "colab": {
   "gpuType": "T4",
   "provenance": []
  },
  "kernelspec": {
   "display_name": "Python 3",
   "language": "python",
   "name": "python3"
  },
  "language_info": {
   "codemirror_mode": {
    "name": "ipython",
    "version": 3
   },
   "file_extension": ".py",
   "mimetype": "text/x-python",
   "name": "python",
   "nbconvert_exporter": "python",
   "pygments_lexer": "ipython3",
   "version": "3.8.8"
  }
 },
 "nbformat": 4,
 "nbformat_minor": 5
}
